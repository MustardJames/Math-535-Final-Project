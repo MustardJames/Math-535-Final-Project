{
  "nbformat": 4,
  "nbformat_minor": 0,
  "metadata": {
    "colab": {
      "provenance": []
    },
    "kernelspec": {
      "name": "python3",
      "display_name": "Python 3"
    },
    "language_info": {
      "name": "python"
    }
  },
  "cells": [
    {
      "cell_type": "code",
      "execution_count": null,
      "metadata": {
        "id": "5bZ_80xJzwRf"
      },
      "outputs": [],
      "source": []
    },
    {
      "cell_type": "markdown",
      "source": [
        "#Math 535 Final Project#\n",
        "\n",
        "Contributors: Xingjian (James) Tian, Baiche (Linda) Xu,  Taiyaxin (Tanya) Liu\n"
      ],
      "metadata": {
        "id": "TEKV4dpazxjb"
      }
    }
  ]
}